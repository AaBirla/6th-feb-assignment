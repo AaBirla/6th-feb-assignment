{
 "cells": [
  {
   "cell_type": "markdown",
   "id": "26fe0ff3-81a9-4d75-9cc4-c9e095320b87",
   "metadata": {},
   "source": [
    "### Q1. Create a function which will take a list as an argument and return the product of all the numbers after creating a flat list."
   ]
  },
  {
   "cell_type": "markdown",
   "id": "11aee4bd-1227-4200-8723-8bcb56ca4c25",
   "metadata": {},
   "source": [
    "Use the below-given list as an argument for your function. list1 = [1,2,3,4, [44,55,66, True], False, (34,56,78,89,34), {1,2,3,3,2,1}, {1:34, \"key2\": [55, 67, 78, 89], 4: (45, 22, 61, 34)}, [56, 'data science'], 'Machine Learning’] Note: you must extract numeric keys and values of the dictionary also.\n",
    "\n"
   ]
  },
  {
   "cell_type": "code",
   "execution_count": 1,
   "id": "e49ed659-24b2-437c-92df-6b6a8c7b2561",
   "metadata": {},
   "outputs": [
    {
     "name": "stdout",
     "output_type": "stream",
     "text": [
      "4134711838987085478833841242112000\n"
     ]
    }
   ],
   "source": [
    "def flatten_list_and_find_product(lst):\n",
    "    # Initialize a variable to store the product\n",
    "    product = 1\n",
    "    # Loop through the list and flatten the elements\n",
    "    for item in lst:\n",
    "        # If the item is a list, call the function recursively on it\n",
    "        if type(item) == list:\n",
    "            product *= flatten_list_and_find_product(item)\n",
    "        # If the item is a tuple, convert it to a list and call the function recursively on it\n",
    "        elif type(item) == tuple:\n",
    "            product *= flatten_list_and_find_product(list(item))\n",
    "        # If the item is a set, convert it to a list and call the function recursively on it\n",
    "        elif type(item) == set:\n",
    "            product *= flatten_list_and_find_product(list(item))\n",
    "        # If the item is a dictionary, extract numeric keys and values and call the function recursively on them\n",
    "        elif type(item) == dict:\n",
    "            # Initialize a list to store numeric keys and values\n",
    "            numeric_items = []\n",
    "            for key, value in item.items():\n",
    "                if type(key) == int or type(key) == float:\n",
    "                    numeric_items.append(key)\n",
    "                if type(value) == int or type(value) == float:\n",
    "                    numeric_items.append(value)\n",
    "                if type(value) == list:\n",
    "                    for elem in value:\n",
    "                        if type(elem) == int or type(elem) == float:\n",
    "                            numeric_items.append(elem)\n",
    "                if type(value) == tuple:\n",
    "                    for elem in value:\n",
    "                        if type(elem) == int or type(elem) == float:\n",
    "                            numeric_items.append(elem)\n",
    "            product *= flatten_list_and_find_product(numeric_items)\n",
    "        # If the item is a number, multiply it to the product\n",
    "        elif type(item) == int or type(item) == float:\n",
    "            product *= item\n",
    "    # Return the product\n",
    "    return product\n",
    "\n",
    "# Test the function\n",
    "list1 = [1,2,3,4, [44,55,66, True], False, (34,56,78,89,34), {1,2,3,3,2,1}, {1:34, \"key2\": [55, 67, 78, 89], 4: (45,22, 61, 34)}, [56, 'data science'], 'Machine Learning']\n",
    "print(flatten_list_and_find_product(list1))"
   ]
  },
  {
   "cell_type": "code",
   "execution_count": 2,
   "id": "a7c31562-e918-4265-a107-649d4ab37ea5",
   "metadata": {},
   "outputs": [
    {
     "data": {
      "text/plain": [
       "808077962312081414553600"
      ]
     },
     "execution_count": 2,
     "metadata": {},
     "output_type": "execute_result"
    }
   ],
   "source": [
    "# manual checking\n",
    "1 * 2 * 3 * 4 * 44 * 55 * 66 * 34 * 56 * 78 * 89 * 34 * 1 * 2 * 3 * 34 * 55 * 67 * 78 * 8"
   ]
  },
  {
   "cell_type": "code",
   "execution_count": null,
   "id": "e854da52-a0cb-481b-a60a-51c0de192809",
   "metadata": {},
   "outputs": [],
   "source": []
  },
  {
   "cell_type": "code",
   "execution_count": null,
   "id": "dd9c63a7-7888-462b-868e-4d3b673c4c3a",
   "metadata": {},
   "outputs": [],
   "source": []
  }
 ],
 "metadata": {
  "kernelspec": {
   "display_name": "Python 3 (ipykernel)",
   "language": "python",
   "name": "python3"
  },
  "language_info": {
   "codemirror_mode": {
    "name": "ipython",
    "version": 3
   },
   "file_extension": ".py",
   "mimetype": "text/x-python",
   "name": "python",
   "nbconvert_exporter": "python",
   "pygments_lexer": "ipython3",
   "version": "3.10.8"
  }
 },
 "nbformat": 4,
 "nbformat_minor": 5
}
